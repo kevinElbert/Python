{
  "nbformat": 4,
  "nbformat_minor": 0,
  "metadata": {
    "colab": {
      "provenance": []
    },
    "kernelspec": {
      "name": "python3",
      "display_name": "Python 3"
    },
    "language_info": {
      "name": "python"
    }
  },
  "cells": [
    {
      "cell_type": "code",
      "execution_count": null,
      "metadata": {
        "colab": {
          "base_uri": "https://localhost:8080/"
        },
        "id": "E94b30IEw9ZB",
        "outputId": "13f04527-6a87-4090-fdef-dfacaaea02b4"
      },
      "outputs": [
        {
          "output_type": "stream",
          "name": "stdout",
          "text": [
            "Looking in indexes: https://pypi.org/simple, https://us-python.pkg.dev/colab-wheels/public/simple/\n",
            "Requirement already satisfied: pyspark in /usr/local/lib/python3.10/dist-packages (3.4.0)\n",
            "Requirement already satisfied: py4j==0.10.9.7 in /usr/local/lib/python3.10/dist-packages (from pyspark) (0.10.9.7)\n"
          ]
        }
      ],
      "source": [
        "!pip install pyspark"
      ]
    },
    {
      "cell_type": "code",
      "source": [
        "from pyspark.sql import SparkSession\n",
        "from pyspark.sql.functions import when\n",
        "from pyspark.ml.feature import VectorAssembler, StandardScaler\n",
        "from pyspark.ml.classification import LogisticRegression\n",
        "from pyspark.ml.evaluation import BinaryClassificationEvaluator\n",
        "\n",
        "spark = SparkSession.builder.getOrCreate()"
      ],
      "metadata": {
        "id": "EKFJzd2Qx27E"
      },
      "execution_count": null,
      "outputs": []
    },
    {
      "cell_type": "code",
      "source": [
        "#Load Data\n",
        "df_train = spark.read.option(\"inferschema\", \"true\"). csv(\"/content/Classification_Test.csv\", header=True)\n",
        "df_test = spark.read.option(\"inferschema\", \"true\"). csv(\"/content/Classification_Train.csv\", header=True)\n",
        "\n",
        "df_train.show(3)\n",
        "df_test.show(3)"
      ],
      "metadata": {
        "colab": {
          "base_uri": "https://localhost:8080/"
        },
        "id": "V7TFzFbhyc7G",
        "outputId": "614524c7-deac-484c-8bf6-91218c77b058"
      },
      "execution_count": null,
      "outputs": [
        {
          "output_type": "stream",
          "name": "stdout",
          "text": [
            "+----------------+------+------+---------------+---------+-------+-------------+---------+\n",
            "|            Name|Gender|Height|Education Level|Eye Color|Married|Salary Income|Depressed|\n",
            "+----------------+------+------+---------------+---------+-------+-------------+---------+\n",
            "|    Lila Bracher|  Male|   151|            Low|    Black|     No|     74000000|      Yes|\n",
            "|Archibaldo Bigly|  Male|   162|           High|     Blue|    Yes|     29000000|       No|\n",
            "|    Dion Stopher|  Male|   155|   Intermediate|    Brown|    Yes|    134000000|       No|\n",
            "+----------------+------+------+---------------+---------+-------+-------------+---------+\n",
            "only showing top 3 rows\n",
            "\n",
            "+--------------+------+------+---------------+---------+-------+-------------+---------+\n",
            "|          Name|Gender|Height|Education Level|Eye Color|Married|Salary Income|Depressed|\n",
            "+--------------+------+------+---------------+---------+-------+-------------+---------+\n",
            "| Sax Tesseyman|Female|   174|   Intermediate|     Blue|    Yes|     85000000|       No|\n",
            "|   Niels Greet|  Male|   165|   Intermediate|    Black|     No|     14000000|       No|\n",
            "|Minetta Santry|Female|   160|            Low|    Black|     No|    148000000|      Yes|\n",
            "+--------------+------+------+---------------+---------+-------+-------------+---------+\n",
            "only showing top 3 rows\n",
            "\n"
          ]
        }
      ]
    },
    {
      "cell_type": "code",
      "source": [
        "#Select Features\n",
        "df_train = df_train.select(\"Married\", \"Education Level\", \"Salary Income\", \"Depressed\")\n",
        "df_test = df_test.select(\"Married\", \"Education Level\", \"Salary Income\", \"Depressed\")\n",
        "\n",
        "df_train.show(3)\n",
        "df_test.show(3)"
      ],
      "metadata": {
        "colab": {
          "base_uri": "https://localhost:8080/"
        },
        "id": "KWAzJ3_bzKea",
        "outputId": "52abe681-4d82-45fe-8d83-fde1f135d266"
      },
      "execution_count": null,
      "outputs": [
        {
          "output_type": "stream",
          "name": "stdout",
          "text": [
            "+-------+---------------+-------------+---------+\n",
            "|Married|Education Level|Salary Income|Depressed|\n",
            "+-------+---------------+-------------+---------+\n",
            "|     No|            Low|     74000000|      Yes|\n",
            "|    Yes|           High|     29000000|       No|\n",
            "|    Yes|   Intermediate|    134000000|       No|\n",
            "+-------+---------------+-------------+---------+\n",
            "only showing top 3 rows\n",
            "\n",
            "+-------+---------------+-------------+---------+\n",
            "|Married|Education Level|Salary Income|Depressed|\n",
            "+-------+---------------+-------------+---------+\n",
            "|    Yes|   Intermediate|     85000000|       No|\n",
            "|     No|   Intermediate|     14000000|       No|\n",
            "|     No|            Low|    148000000|      Yes|\n",
            "+-------+---------------+-------------+---------+\n",
            "only showing top 3 rows\n",
            "\n"
          ]
        }
      ]
    },
    {
      "cell_type": "code",
      "source": [
        "# Data Preprocessing\n",
        "df_train = df_train.na.drop()\n",
        "df_test = df_test.na.drop()"
      ],
      "metadata": {
        "id": "ebI3HUDb0C0u"
      },
      "execution_count": null,
      "outputs": []
    },
    {
      "cell_type": "code",
      "source": [
        "# Transform Data\n",
        "\n",
        "\n",
        "df_train = df_train.withColumn(\"Married\", when(df_train[\"Married\"] == \"No\", 0).\n",
        "            when(df_train[\"Married\"] == \"Yes\", 1))\n",
        "\n",
        "df_train = df_train.withColumn(\"Education Level\", when(df_train[\"Education Level\"] == \"Low\", 0).\n",
        "                               when(df_train[\"Education Level\"] == \"Intermediate\", 1).\n",
        "                               when(df_train[\"Education Level\"] == \"High\", 2))\n",
        "\n",
        "df_train = df_train.withColumn(\"Depressed\", when(df_train[\"Depressed\"] == \"No\", 0).\n",
        "                               when(df_train[\"Depressed\"] == \"Yes\", 1))\n",
        "\n",
        "df_test = df_test.withColumn(\"Married\", when(df_test[\"Married\"] == \"No\", 0).\n",
        "            when(df_test[\"Married\"] == \"Yes\", 1))\n",
        "\n",
        "df_test = df_test.withColumn(\"Education Level\", when(df_test[\"Education Level\"] == \"Low\", 0).\n",
        "                               when(df_test[\"Education Level\"] == \"Intermediate\", 1).\n",
        "                               when(df_test[\"Education Level\"] == \"High\", 2))\n",
        "\n",
        "df_test = df_test.withColumn(\"Depressed\", when(df_test[\"Depressed\"] == \"No\", 0).\n",
        "                               when(df_test[\"Depressed\"] == \"Yes\", 1))\n",
        "\n",
        "\n",
        "df_train.show(3)\n",
        "df_test.show(3)"
      ],
      "metadata": {
        "colab": {
          "base_uri": "https://localhost:8080/"
        },
        "id": "RekYC8r10iaS",
        "outputId": "49a4d4f6-4d3a-470e-d438-aa9c8b600f9c"
      },
      "execution_count": null,
      "outputs": [
        {
          "output_type": "stream",
          "name": "stdout",
          "text": [
            "+-------+---------------+-------------+---------+\n",
            "|Married|Education Level|Salary Income|Depressed|\n",
            "+-------+---------------+-------------+---------+\n",
            "|      0|              0|     74000000|        1|\n",
            "|      1|              2|     29000000|        0|\n",
            "|      1|              1|    134000000|        0|\n",
            "+-------+---------------+-------------+---------+\n",
            "only showing top 3 rows\n",
            "\n",
            "+-------+---------------+-------------+---------+\n",
            "|Married|Education Level|Salary Income|Depressed|\n",
            "+-------+---------------+-------------+---------+\n",
            "|      1|              1|     85000000|        0|\n",
            "|      0|              1|     14000000|        0|\n",
            "|      0|              0|    148000000|        1|\n",
            "+-------+---------------+-------------+---------+\n",
            "only showing top 3 rows\n",
            "\n"
          ]
        }
      ]
    },
    {
      "cell_type": "code",
      "source": [
        "# Normalization\n",
        "\n",
        "cols = df_train.columns\n",
        "cols.remove(\"Depressed\")\n",
        "\n",
        "assembler = VectorAssembler(inputCols= cols, outputCol=\"vector\")\n",
        "df_test = assembler.transform(df_test)\n",
        "df_test.show(5)\n",
        "\n",
        "scaler =StandardScaler(inputCol=\"vector\", outputCol=\"standar_scaler\")\n",
        "df_test = scaler.fit(df_test).transform(df_test)d\n",
        "df_test.show(5)"
      ],
      "metadata": {
        "colab": {
          "base_uri": "https://localhost:8080/"
        },
        "id": "uolGqv5v3sKS",
        "outputId": "da5af490-e32d-41a7-bb27-4fcd4e4974ff"
      },
      "execution_count": null,
      "outputs": [
        {
          "output_type": "stream",
          "name": "stdout",
          "text": [
            "+-------+---------------+-------------+---------+----------------+\n",
            "|Married|Education Level|Salary Income|Depressed|          vector|\n",
            "+-------+---------------+-------------+---------+----------------+\n",
            "|      1|              1|     85000000|        0| [1.0,1.0,8.5E7]|\n",
            "|      0|              1|     14000000|        0| [0.0,1.0,1.4E7]|\n",
            "|      0|              0|    148000000|        1|[0.0,0.0,1.48E8]|\n",
            "|      0|              2|     50000000|        1| [0.0,2.0,5.0E7]|\n",
            "|      1|              1|    101000000|        0|[1.0,1.0,1.01E8]|\n",
            "+-------+---------------+-------------+---------+----------------+\n",
            "only showing top 5 rows\n",
            "\n",
            "+-------+---------------+-------------+---------+----------------+--------------------+\n",
            "|Married|Education Level|Salary Income|Depressed|          vector|      standar_scaler|\n",
            "+-------+---------------+-------------+---------+----------------+--------------------+\n",
            "|      1|              1|     85000000|        0| [1.0,1.0,8.5E7]|[2.00042918101203...|\n",
            "|      0|              1|     14000000|        0| [0.0,1.0,1.4E7]|[0.0,1.2959574236...|\n",
            "|      0|              0|    148000000|        1|[0.0,0.0,1.48E8]|[0.0,0.0,3.572913...|\n",
            "|      0|              2|     50000000|        1| [0.0,2.0,5.0E7]|[0.0,2.5919148472...|\n",
            "|      1|              1|    101000000|        0|[1.0,1.0,1.01E8]|[2.00042918101203...|\n",
            "+-------+---------------+-------------+---------+----------------+--------------------+\n",
            "only showing top 5 rows\n",
            "\n"
          ]
        }
      ]
    },
    {
      "cell_type": "code",
      "source": [
        "# Generate Model\n",
        "\n",
        "\n",
        "model = LogisticRegression(featuresCol=\"standar_scaler\", labelCol=\"Depressed\", maxIter=10).fit(df_test)\n",
        "\n",
        "prediction = model.transform(df_test)\n",
        "prediction.select(\"Depressed\", \"standar_scaler\").show(3)"
      ],
      "metadata": {
        "colab": {
          "base_uri": "https://localhost:8080/"
        },
        "id": "qUkzVYWA35zi",
        "outputId": "c4fef4d6-7052-4e51-d12c-2c131f57f305"
      },
      "execution_count": null,
      "outputs": [
        {
          "output_type": "stream",
          "name": "stdout",
          "text": [
            "+-------+---------------+-------------+---------+----------------+--------------------+--------------------+--------------------+----------+\n",
            "|Married|Education Level|Salary Income|Depressed|          vector|      standar_scaler|       rawPrediction|         probability|prediction|\n",
            "+-------+---------------+-------------+---------+----------------+--------------------+--------------------+--------------------+----------+\n",
            "|      1|              1|     85000000|        0| [1.0,1.0,8.5E7]|[2.00042918101203...|[1.85289437098755...|[0.86446657727832...|       0.0|\n",
            "|      0|              1|     14000000|        0| [0.0,1.0,1.4E7]|[0.0,1.2959574236...|[-2.1776527379103...|[0.10177530729006...|       1.0|\n",
            "|      0|              0|    148000000|        1|[0.0,0.0,1.48E8]|[0.0,0.0,3.572913...|[-0.7377856531176...|[0.32348855011231...|       1.0|\n",
            "+-------+---------------+-------------+---------+----------------+--------------------+--------------------+--------------------+----------+\n",
            "only showing top 3 rows\n",
            "\n"
          ]
        }
      ]
    },
    {
      "cell_type": "code",
      "source": [
        "# Model Testing and Evaluation\n",
        "evaluator = BinaryClassificationEvaluator(labelCol=\"Depressed\")\n",
        "print(\"Accuracy {}%\".format(evaluator.evaluate(prediction)* 100))"
      ],
      "metadata": {
        "id": "Cg0bUcEX38Cy"
      },
      "execution_count": null,
      "outputs": []
    },
    {
      "cell_type": "markdown",
      "source": [],
      "metadata": {
        "id": "CjSyof59eHQX"
      }
    }
  ]
}